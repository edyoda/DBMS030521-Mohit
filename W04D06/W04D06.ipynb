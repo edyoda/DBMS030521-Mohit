{
 "cells": [
  {
   "cell_type": "code",
   "execution_count": 2,
   "metadata": {},
   "outputs": [
    {
     "name": "stdout",
     "output_type": "stream",
     "text": [
      "Requirement already satisfied: mysql-connector-python in c:\\users\\mohit\\appdata\\local\\programs\\python\\python38-32\\lib\\site-packages (8.0.22)\n",
      "Requirement already satisfied: protobuf>=3.0.0 in c:\\users\\mohit\\appdata\\local\\programs\\python\\python38-32\\lib\\site-packages (from mysql-connector-python) (3.14.0)\n",
      "Requirement already satisfied: six>=1.9 in c:\\users\\mohit\\appdata\\local\\programs\\python\\python38-32\\lib\\site-packages (from protobuf>=3.0.0->mysql-connector-python) (1.15.0)\n",
      "Note: you may need to restart the kernel to use updated packages.\n"
     ]
    },
    {
     "name": "stderr",
     "output_type": "stream",
     "text": [
      "WARNING: You are using pip version 19.2.3, however version 21.1.2 is available.\n",
      "You should consider upgrading via the 'python -m pip install --upgrade pip' command.\n"
     ]
    }
   ],
   "source": [
    "pip install mysql-connector-python"
   ]
  },
  {
   "cell_type": "code",
   "execution_count": 3,
   "metadata": {},
   "outputs": [],
   "source": [
    "import mysql.connector"
   ]
  },
  {
   "cell_type": "code",
   "execution_count": 10,
   "metadata": {},
   "outputs": [],
   "source": [
    "import mysql.connector\n",
    "cnx = mysql.connector.connect(user='root', host='localhost',password='2804',database='classicmodels')\n",
    "\n",
    "mycursor = cnx.cursor()\n",
    "mycursor.execute('SHOW TABLES;')\n",
    "result = mycursor.fetchall()"
   ]
  },
  {
   "cell_type": "code",
   "execution_count": 11,
   "metadata": {},
   "outputs": [
    {
     "name": "stdout",
     "output_type": "stream",
     "text": [
      "[('customers',), ('employees',), ('offices',), ('orderdetails',), ('orders',), ('payments',), ('productlines',), ('products',)]\n"
     ]
    }
   ],
   "source": [
    "print(result)"
   ]
  },
  {
   "cell_type": "code",
   "execution_count": 12,
   "metadata": {},
   "outputs": [
    {
     "ename": "InterfaceError",
     "evalue": "No result set to fetch from.",
     "output_type": "error",
     "traceback": [
      "\u001b[1;31m---------------------------------------------------------------------------\u001b[0m",
      "\u001b[1;31mInterfaceError\u001b[0m                            Traceback (most recent call last)",
      "\u001b[1;32m<ipython-input-12-2a48a671b3ad>\u001b[0m in \u001b[0;36m<module>\u001b[1;34m\u001b[0m\n\u001b[1;32m----> 1\u001b[1;33m \u001b[0mmycursor\u001b[0m\u001b[1;33m.\u001b[0m\u001b[0mfetchall\u001b[0m\u001b[1;33m(\u001b[0m\u001b[1;33m)\u001b[0m\u001b[1;33m\u001b[0m\u001b[1;33m\u001b[0m\u001b[0m\n\u001b[0m",
      "\u001b[1;32mc:\\users\\mohit\\appdata\\local\\programs\\python\\python38-32\\lib\\site-packages\\mysql\\connector\\cursor.py\u001b[0m in \u001b[0;36mfetchall\u001b[1;34m(self)\u001b[0m\n\u001b[0;32m    893\u001b[0m     \u001b[1;32mdef\u001b[0m \u001b[0mfetchall\u001b[0m\u001b[1;33m(\u001b[0m\u001b[0mself\u001b[0m\u001b[1;33m)\u001b[0m\u001b[1;33m:\u001b[0m\u001b[1;33m\u001b[0m\u001b[1;33m\u001b[0m\u001b[0m\n\u001b[0;32m    894\u001b[0m         \u001b[1;32mif\u001b[0m \u001b[1;32mnot\u001b[0m \u001b[0mself\u001b[0m\u001b[1;33m.\u001b[0m\u001b[0m_have_unread_result\u001b[0m\u001b[1;33m(\u001b[0m\u001b[1;33m)\u001b[0m\u001b[1;33m:\u001b[0m\u001b[1;33m\u001b[0m\u001b[1;33m\u001b[0m\u001b[0m\n\u001b[1;32m--> 895\u001b[1;33m             \u001b[1;32mraise\u001b[0m \u001b[0merrors\u001b[0m\u001b[1;33m.\u001b[0m\u001b[0mInterfaceError\u001b[0m\u001b[1;33m(\u001b[0m\u001b[1;34m\"No result set to fetch from.\"\u001b[0m\u001b[1;33m)\u001b[0m\u001b[1;33m\u001b[0m\u001b[1;33m\u001b[0m\u001b[0m\n\u001b[0m\u001b[0;32m    896\u001b[0m         \u001b[1;33m(\u001b[0m\u001b[0mrows\u001b[0m\u001b[1;33m,\u001b[0m \u001b[0meof\u001b[0m\u001b[1;33m)\u001b[0m \u001b[1;33m=\u001b[0m \u001b[0mself\u001b[0m\u001b[1;33m.\u001b[0m\u001b[0m_connection\u001b[0m\u001b[1;33m.\u001b[0m\u001b[0mget_rows\u001b[0m\u001b[1;33m(\u001b[0m\u001b[1;33m)\u001b[0m\u001b[1;33m\u001b[0m\u001b[1;33m\u001b[0m\u001b[0m\n\u001b[0;32m    897\u001b[0m         \u001b[1;32mif\u001b[0m \u001b[0mself\u001b[0m\u001b[1;33m.\u001b[0m\u001b[0m_nextrow\u001b[0m\u001b[1;33m[\u001b[0m\u001b[1;36m0\u001b[0m\u001b[1;33m]\u001b[0m\u001b[1;33m:\u001b[0m\u001b[1;33m\u001b[0m\u001b[1;33m\u001b[0m\u001b[0m\n",
      "\u001b[1;31mInterfaceError\u001b[0m: No result set to fetch from."
     ]
    }
   ],
   "source": [
    "mycursor.fetchall()"
   ]
  },
  {
   "cell_type": "code",
   "execution_count": 13,
   "metadata": {},
   "outputs": [],
   "source": [
    "mycursor.execute('SELECT * FROM Employees;')\n",
    "result = mycursor.fetchall()"
   ]
  },
  {
   "cell_type": "code",
   "execution_count": 20,
   "metadata": {},
   "outputs": [
    {
     "data": {
      "text/plain": [
       "23"
      ]
     },
     "execution_count": 20,
     "metadata": {},
     "output_type": "execute_result"
    }
   ],
   "source": [
    "len(result)"
   ]
  },
  {
   "cell_type": "code",
   "execution_count": 27,
   "metadata": {},
   "outputs": [
    {
     "data": {
      "text/plain": [
       "NoneType"
      ]
     },
     "execution_count": 27,
     "metadata": {},
     "output_type": "execute_result"
    }
   ],
   "source": [
    "type(result[0][6])"
   ]
  },
  {
   "cell_type": "code",
   "execution_count": 19,
   "metadata": {},
   "outputs": [
    {
     "data": {
      "text/plain": [
       "'Diane'"
      ]
     },
     "execution_count": 19,
     "metadata": {},
     "output_type": "execute_result"
    }
   ],
   "source": [
    "result[0][2]"
   ]
  },
  {
   "cell_type": "code",
   "execution_count": 32,
   "metadata": {},
   "outputs": [
    {
     "name": "stdout",
     "output_type": "stream",
     "text": [
      "mail_sent to dmurphy@classicmodelcars.com\n",
      "mail_sent to mpatterso@classicmodelcars.com\n",
      "mail_sent to jfirrelli@classicmodelcars.com\n",
      "mail_sent to wpatterson@classicmodelcars.com\n",
      "mail_sent to gbondur@classicmodelcars.com\n",
      "mail_sent to abow@classicmodelcars.com\n",
      "mail_sent to ljennings@classicmodelcars.com\n",
      "mail_sent to lthompson@classicmodelcars.com\n",
      "mail_sent to jfirrelli@classicmodelcars.com\n",
      "mail_sent to spatterson@classicmodelcars.com\n",
      "mail_sent to ftseng@classicmodelcars.com\n",
      "mail_sent to gvanauf@classicmodelcars.com\n",
      "mail_sent to lbondur@classicmodelcars.com\n",
      "mail_sent to ghernande@classicmodelcars.com\n",
      "mail_sent to pcastillo@classicmodelcars.com\n",
      "mail_sent to lbott@classicmodelcars.com\n",
      "mail_sent to bjones@classicmodelcars.com\n",
      "mail_sent to afixter@classicmodelcars.com\n",
      "mail_sent to pmarsh@classicmodelcars.com\n",
      "mail_sent to tking@classicmodelcars.com\n",
      "mail_sent to mnishi@classicmodelcars.com\n",
      "mail_sent to ykato@classicmodelcars.com\n",
      "mail_sent to mgerard@classicmodelcars.com\n"
     ]
    }
   ],
   "source": [
    "for row in result:\n",
    "    send_mail(row[4])"
   ]
  },
  {
   "cell_type": "code",
   "execution_count": 29,
   "metadata": {},
   "outputs": [],
   "source": [
    "def send_mail(email):\n",
    "    #actual logic to send a mail\n",
    "    print('mail_sent to',email)"
   ]
  },
  {
   "cell_type": "code",
   "execution_count": 35,
   "metadata": {},
   "outputs": [],
   "source": [
    "mycursor.execute('USE EXAMPLE;')"
   ]
  },
  {
   "cell_type": "code",
   "execution_count": 36,
   "metadata": {},
   "outputs": [],
   "source": [
    "mycursor.execute('SHOW TABLES;')"
   ]
  },
  {
   "cell_type": "code",
   "execution_count": 37,
   "metadata": {},
   "outputs": [
    {
     "data": {
      "text/plain": [
       "[('example_1',),\n",
       " ('example_2',),\n",
       " ('example_3',),\n",
       " ('example_4',),\n",
       " ('student',),\n",
       " ('student_2',),\n",
       " ('student_3',)]"
      ]
     },
     "execution_count": 37,
     "metadata": {},
     "output_type": "execute_result"
    }
   ],
   "source": [
    "mycursor.fetchall()"
   ]
  },
  {
   "cell_type": "code",
   "execution_count": 43,
   "metadata": {},
   "outputs": [
    {
     "data": {
      "text/plain": [
       "[(1, 'Rohan', '4', 20, 'M'),\n",
       " (2, 'Mohini', '5', 25, 'F'),\n",
       " (3, 'Rohini', '10', 55, 'F'),\n",
       " (4, 'PRIYA', '11', 35, 'F')]"
      ]
     },
     "execution_count": 43,
     "metadata": {},
     "output_type": "execute_result"
    }
   ],
   "source": [
    "mycursor.execute('SELECT * FROM example_1;')\n",
    "mycursor.fetchall()"
   ]
  },
  {
   "cell_type": "code",
   "execution_count": 38,
   "metadata": {},
   "outputs": [],
   "source": [
    "mycursor.execute('desc example_1')"
   ]
  },
  {
   "cell_type": "code",
   "execution_count": 39,
   "metadata": {},
   "outputs": [
    {
     "data": {
      "text/plain": [
       "[('ID', b'int', 'YES', '', None, ''),\n",
       " ('NAME', b'varchar(20)', 'YES', '', None, ''),\n",
       " ('CLASS', b'varchar(10)', 'YES', '', None, ''),\n",
       " ('MARK', b'int', 'YES', '', None, ''),\n",
       " ('SEX', b'varchar(10)', 'YES', '', None, '')]"
      ]
     },
     "execution_count": 39,
     "metadata": {},
     "output_type": "execute_result"
    }
   ],
   "source": [
    "mycursor.fetchall()"
   ]
  },
  {
   "cell_type": "code",
   "execution_count": 40,
   "metadata": {},
   "outputs": [],
   "source": [
    "mycursor.execute(\"INSERT INTO example_1 VALUES (4,'PRIYA','11','35','F');\")"
   ]
  },
  {
   "cell_type": "code",
   "execution_count": 41,
   "metadata": {},
   "outputs": [
    {
     "data": {
      "text/plain": [
       "1"
      ]
     },
     "execution_count": 41,
     "metadata": {},
     "output_type": "execute_result"
    }
   ],
   "source": [
    "mycursor.rowcount"
   ]
  },
  {
   "cell_type": "code",
   "execution_count": 42,
   "metadata": {},
   "outputs": [],
   "source": [
    "cnx.commit()"
   ]
  },
  {
   "cell_type": "code",
   "execution_count": null,
   "metadata": {},
   "outputs": [],
   "source": [
    "SERVER SIDE PAGINATION MINI-PROJECT"
   ]
  },
  {
   "cell_type": "code",
   "execution_count": null,
   "metadata": {},
   "outputs": [],
   "source": [
    "Checkpoint 1:Front end side of the code."
   ]
  },
  {
   "cell_type": "code",
   "execution_count": null,
   "metadata": {},
   "outputs": [],
   "source": [
    "data = [(1, 'Rohan', '4', 20, 'M'),\n",
    " (2, 'Mohini', '5', 25, 'F')]"
   ]
  },
  {
   "cell_type": "code",
   "execution_count": 44,
   "metadata": {},
   "outputs": [],
   "source": [
    "from IPython.display import HTML, display, clear_output"
   ]
  },
  {
   "cell_type": "code",
   "execution_count": null,
   "metadata": {},
   "outputs": [],
   "source": [
    "def display_table(data):\n",
    "    html_string = \"<table>\"\n",
    "    for row in data:\n",
    "        html_string += \"<tr>\"\n",
    "        for col in row:\n",
    "            html_string += \"<td><h4>%s</h4></td>\"%(col)\n",
    "        html_string += \"</tr>\"\n",
    "    html_string += \"</table>\"\n",
    "    display(HTML(html_string))"
   ]
  },
  {
   "cell_type": "code",
   "execution_count": 46,
   "metadata": {},
   "outputs": [],
   "source": [
    "from ipywidgets import widgets,Output"
   ]
  },
  {
   "cell_type": "code",
   "execution_count": 48,
   "metadata": {},
   "outputs": [],
   "source": [
    "def nextPage(arg):\n",
    "    print(\"Next is clicked\")"
   ]
  },
  {
   "cell_type": "code",
   "execution_count": 49,
   "metadata": {},
   "outputs": [
    {
     "data": {
      "application/vnd.jupyter.widget-view+json": {
       "model_id": "dec2a8ce037b41d6aa6ecec4fc22aa4f",
       "version_major": 2,
       "version_minor": 0
      },
      "text/plain": [
       "Button(description='Next', style=ButtonStyle())"
      ]
     },
     "metadata": {},
     "output_type": "display_data"
    },
    {
     "name": "stdout",
     "output_type": "stream",
     "text": [
      "Next is clicked\n",
      "Next is clicked\n",
      "Next is clicked\n",
      "Next is clicked\n",
      "Next is clicked\n",
      "Next is clicked\n",
      "Next is clicked\n",
      "Next is clicked\n",
      "Next is clicked\n",
      "Next is clicked\n",
      "Next is clicked\n"
     ]
    }
   ],
   "source": [
    "next_button = widgets.Button(description=\"Next\")\n",
    "next_button.on_click(nextPage)\n",
    "display(next_button)"
   ]
  },
  {
   "cell_type": "code",
   "execution_count": 55,
   "metadata": {},
   "outputs": [],
   "source": [
    "def previousPage(arg):\n",
    "    print(\"Previous is clicked\")"
   ]
  },
  {
   "cell_type": "code",
   "execution_count": 56,
   "metadata": {},
   "outputs": [
    {
     "data": {
      "application/vnd.jupyter.widget-view+json": {
       "model_id": "95a775e2995c4895b82de327cc8df9ca",
       "version_major": 2,
       "version_minor": 0
      },
      "text/plain": [
       "Button(description='Previous', style=ButtonStyle())"
      ]
     },
     "metadata": {},
     "output_type": "display_data"
    },
    {
     "name": "stdout",
     "output_type": "stream",
     "text": [
      "Previous is clicked\n",
      "Previous is clicked\n",
      "Previous is clicked\n",
      "Previous is clicked\n",
      "Previous is clicked\n"
     ]
    }
   ],
   "source": [
    "previous_button = widgets.Button(description=\"Previous\")\n",
    "previous_button.on_click(previousPage)\n",
    "display(previous_button)"
   ]
  },
  {
   "cell_type": "code",
   "execution_count": 59,
   "metadata": {},
   "outputs": [
    {
     "data": {
      "application/vnd.jupyter.widget-view+json": {
       "model_id": "1c6d0e05e2b547ea882370cb8ca00ed8",
       "version_major": 2,
       "version_minor": 0
      },
      "text/plain": [
       "Output()"
      ]
     },
     "metadata": {},
     "output_type": "display_data"
    }
   ],
   "source": [
    "out = Output()\n",
    "display(out)"
   ]
  },
  {
   "cell_type": "code",
   "execution_count": 60,
   "metadata": {},
   "outputs": [],
   "source": [
    "with out:\n",
    "    print('HI')\n",
    "    for i in range(5):\n",
    "        print(i)\n",
    "    print('ANANya')"
   ]
  },
  {
   "cell_type": "code",
   "execution_count": 76,
   "metadata": {},
   "outputs": [
    {
     "data": {
      "application/vnd.jupyter.widget-view+json": {
       "model_id": "1d57abc910004b85b786aebe1f39fd0a",
       "version_major": 2,
       "version_minor": 0
      },
      "text/plain": [
       "Output()"
      ]
     },
     "metadata": {},
     "output_type": "display_data"
    },
    {
     "data": {
      "application/vnd.jupyter.widget-view+json": {
       "model_id": "8a7470ab89cf49229356a9f6af3a11c2",
       "version_major": 2,
       "version_minor": 0
      },
      "text/plain": [
       "Button(description='Next', style=ButtonStyle())"
      ]
     },
     "metadata": {},
     "output_type": "display_data"
    },
    {
     "data": {
      "application/vnd.jupyter.widget-view+json": {
       "model_id": "51599b4a1d54416ca958397e138b0165",
       "version_major": 2,
       "version_minor": 0
      },
      "text/plain": [
       "Button(description='Previous', style=ButtonStyle())"
      ]
     },
     "metadata": {},
     "output_type": "display_data"
    }
   ],
   "source": [
    "from IPython.display import HTML, display, clear_output\n",
    "from ipywidgets import widgets,Output\n",
    "out = Output()\n",
    "display(out)\n",
    "\n",
    "def display_table(data):\n",
    "    html_string = \"<table>\"\n",
    "    for row in data:\n",
    "        html_string += \"<tr>\"\n",
    "        for col in row:\n",
    "            html_string += \"<td><h4>%s</h4></td>\"%(col)\n",
    "        html_string += \"</tr>\"\n",
    "    html_string += \"</table>\"\n",
    "    display(HTML(html_string))\n",
    "\n",
    "def nextPage(arg):\n",
    "    with out:\n",
    "        clear_output()\n",
    "        print(\"Next is clicked\")\n",
    "        display_table()\n",
    "    \n",
    "def previousPage(arg):\n",
    "    with out:\n",
    "        clear_output()\n",
    "        print(\"Previous is clicked\")\n",
    "    \n",
    "next_button = widgets.Button(description=\"Next\")\n",
    "next_button.on_click(nextPage)\n",
    "display(next_button)\n",
    "\n",
    "previous_button = widgets.Button(description=\"Previous\")\n",
    "previous_button.on_click(previousPage)\n",
    "display(previous_button)"
   ]
  },
  {
   "cell_type": "code",
   "execution_count": null,
   "metadata": {},
   "outputs": [],
   "source": [
    "CheckPoint 2: Server Side and DBMS side"
   ]
  },
  {
   "cell_type": "code",
   "execution_count": 78,
   "metadata": {},
   "outputs": [],
   "source": [
    "def fetchRecords(tableName,perPage,offset):\n",
    "    searchQuery = 'SELECT * FROM '+tableName+' limit '+perPage+ ' offset '+ offset+';'\n",
    "    mycursor.execute(searchQuery)\n",
    "    myresult = mycursor.fetchall()\n",
    "    return myresult"
   ]
  },
  {
   "cell_type": "code",
   "execution_count": 79,
   "metadata": {},
   "outputs": [
    {
     "data": {
      "text/html": [
       "<table><tr><td><h4>1286</h4></td><td><h4>Tseng</h4></td><td><h4>Foon Yue</h4></td><td><h4>x2248</h4></td><td><h4>ftseng@classicmodelcars.com</h4></td><td><h4>3</h4></td><td><h4>1143</h4></td><td><h4>Sales Rep</h4></td></tr><tr><td><h4>1323</h4></td><td><h4>Vanauf</h4></td><td><h4>George</h4></td><td><h4>x4102</h4></td><td><h4>gvanauf@classicmodelcars.com</h4></td><td><h4>3</h4></td><td><h4>1143</h4></td><td><h4>Sales Rep</h4></td></tr><tr><td><h4>1337</h4></td><td><h4>Bondur</h4></td><td><h4>Loui</h4></td><td><h4>x6493</h4></td><td><h4>lbondur@classicmodelcars.com</h4></td><td><h4>4</h4></td><td><h4>1102</h4></td><td><h4>Sales Rep</h4></td></tr><tr><td><h4>1370</h4></td><td><h4>Hernandez</h4></td><td><h4>Gerard</h4></td><td><h4>x2028</h4></td><td><h4>ghernande@classicmodelcars.com</h4></td><td><h4>4</h4></td><td><h4>1102</h4></td><td><h4>Sales Rep</h4></td></tr><tr><td><h4>1401</h4></td><td><h4>Castillo</h4></td><td><h4>Pamela</h4></td><td><h4>x2759</h4></td><td><h4>pcastillo@classicmodelcars.com</h4></td><td><h4>4</h4></td><td><h4>1102</h4></td><td><h4>Sales Rep</h4></td></tr></table>"
      ],
      "text/plain": [
       "<IPython.core.display.HTML object>"
      ]
     },
     "metadata": {},
     "output_type": "display_data"
    }
   ],
   "source": [
    "display_table(fetchRecords('Employees','5','10'))"
   ]
  },
  {
   "cell_type": "code",
   "execution_count": null,
   "metadata": {},
   "outputs": [],
   "source": [
    "Checkpoint 3: Integrate the frontend and the backend"
   ]
  },
  {
   "cell_type": "code",
   "execution_count": 88,
   "metadata": {},
   "outputs": [
    {
     "data": {
      "application/vnd.jupyter.widget-view+json": {
       "model_id": "56f9bbcb14414cbc92e9633337672930",
       "version_major": 2,
       "version_minor": 0
      },
      "text/plain": [
       "Output()"
      ]
     },
     "metadata": {},
     "output_type": "display_data"
    },
    {
     "data": {
      "application/vnd.jupyter.widget-view+json": {
       "model_id": "213bef34fc8f4cdeb597d98a424f1318",
       "version_major": 2,
       "version_minor": 0
      },
      "text/plain": [
       "Button(description='Next', style=ButtonStyle())"
      ]
     },
     "metadata": {},
     "output_type": "display_data"
    },
    {
     "data": {
      "application/vnd.jupyter.widget-view+json": {
       "model_id": "c8f2a13fc5864083a62b191ec52253af",
       "version_major": 2,
       "version_minor": 0
      },
      "text/plain": [
       "Button(description='Previous', style=ButtonStyle())"
      ]
     },
     "metadata": {},
     "output_type": "display_data"
    }
   ],
   "source": [
    "from IPython.display import HTML, display, clear_output\n",
    "from ipywidgets import widgets,Output\n",
    "out = Output()\n",
    "display(out)\n",
    "perPage = 5\n",
    "offset = -5\n",
    "\n",
    "import mysql.connector\n",
    "cnx = mysql.connector.connect(user='root', host='localhost',password='2804',database='classicmodels')\n",
    "mycursor = cnx.cursor()\n",
    "\n",
    "def fetchRecords(tableName,perPage,offset):\n",
    "    final_data = []\n",
    "    mycursor.execute('desc '+tableName)\n",
    "    allcolumns = mycursor.fetchall()\n",
    "    colnames = []\n",
    "    for col in allcolumns:\n",
    "        colnames.append(col[0])\n",
    "    final_data.append(tuple(colnames))\n",
    "    searchQuery = 'SELECT * FROM '+tableName+' limit '+str(perPage)+ ' offset '+ str(offset)+';'\n",
    "    mycursor.execute(searchQuery)\n",
    "    myresult = mycursor.fetchall()\n",
    "    final_data.extend(myresult)\n",
    "    return final_data\n",
    "\n",
    "def display_table(data):\n",
    "    html_string = \"<table>\"\n",
    "    for row in data:\n",
    "        html_string += \"<tr>\"\n",
    "        for col in row:\n",
    "            html_string += \"<td><h4>%s</h4></td>\"%(col)\n",
    "        html_string += \"</tr>\"\n",
    "    html_string += \"</table>\"\n",
    "    display(HTML(html_string))\n",
    "\n",
    "def nextPage(arg):\n",
    "    with out:\n",
    "        clear_output()\n",
    "        global offset\n",
    "        offset += perPage\n",
    "        records = fetchRecords('Employees',perPage,offset)\n",
    "        if not records:\n",
    "            print('NO RECORDS FOUND')\n",
    "        else:\n",
    "            display_table(records)\n",
    "    \n",
    "def previousPage(arg):\n",
    "    with out:\n",
    "        clear_output()\n",
    "        global offset\n",
    "        offset -= perPage\n",
    "        if offset<0:\n",
    "            print('Previous Button is Exhausted')\n",
    "            offset = 0\n",
    "        else:\n",
    "            records = fetchRecords('Employees',perPage,offset)\n",
    "            if not records:\n",
    "                print('NO RECORDS FOUND')\n",
    "            else:\n",
    "                display_table(records)        \n",
    "\n",
    "next_button = widgets.Button(description=\"Next\")\n",
    "next_button.on_click(nextPage)\n",
    "display(next_button)\n",
    "\n",
    "previous_button = widgets.Button(description=\"Previous\")\n",
    "previous_button.on_click(previousPage)\n",
    "display(previous_button)"
   ]
  },
  {
   "cell_type": "code",
   "execution_count": null,
   "metadata": {},
   "outputs": [],
   "source": []
  }
 ],
 "metadata": {
  "kernelspec": {
   "display_name": "Python 3",
   "language": "python",
   "name": "python3"
  },
  "language_info": {
   "codemirror_mode": {
    "name": "ipython",
    "version": 3
   },
   "file_extension": ".py",
   "mimetype": "text/x-python",
   "name": "python",
   "nbconvert_exporter": "python",
   "pygments_lexer": "ipython3",
   "version": "3.8.3"
  }
 },
 "nbformat": 4,
 "nbformat_minor": 4
}
